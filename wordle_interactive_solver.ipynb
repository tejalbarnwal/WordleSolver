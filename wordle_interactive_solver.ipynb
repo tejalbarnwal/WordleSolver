{
 "cells": [
  {
   "cell_type": "markdown",
   "metadata": {},
   "source": [
    "# WORDLE SOLVER"
   ]
  },
  {
   "cell_type": "code",
   "execution_count": 1,
   "metadata": {},
   "outputs": [
    {
     "name": "stdout",
     "output_type": "stream",
     "text": [
      "Defaulting to user installation because normal site-packages is not writeable\n",
      "Requirement already satisfied: matplotlib in /home/tejal/.local/lib/python3.8/site-packages (2.2.5)\n",
      "Requirement already satisfied: cycler>=0.10 in /usr/lib/python3/dist-packages (from matplotlib) (0.10.0)\n",
      "Requirement already satisfied: numpy>=1.7.1 in /home/tejal/.local/lib/python3.8/site-packages (from matplotlib) (1.22.3)\n",
      "Requirement already satisfied: six>=1.10 in /usr/lib/python3/dist-packages (from matplotlib) (1.14.0)\n",
      "Requirement already satisfied: pyparsing!=2.0.4,!=2.1.2,!=2.1.6,>=2.0.1 in /usr/lib/python3/dist-packages (from matplotlib) (2.4.6)\n",
      "Requirement already satisfied: kiwisolver>=1.0.1 in /usr/lib/python3/dist-packages (from matplotlib) (1.0.1)\n",
      "Requirement already satisfied: python-dateutil>=2.1 in /home/tejal/.local/lib/python3.8/site-packages (from matplotlib) (2.8.2)\n",
      "Requirement already satisfied: pytz in /home/tejal/.local/lib/python3.8/site-packages (from matplotlib) (2022.1)\n",
      "Note: you may need to restart the kernel to use updated packages.\n"
     ]
    }
   ],
   "source": [
    "pip install matplotlib"
   ]
  },
  {
   "cell_type": "markdown",
   "metadata": {},
   "source": [
    "## Importing necessary libraries"
   ]
  },
  {
   "cell_type": "code",
   "execution_count": 2,
   "metadata": {},
   "outputs": [],
   "source": [
    "import numpy as np\n",
    "import pandas as pd\n",
    "import collections\n",
    "from IPython.display import clear_output\n",
    "import warnings\n",
    "warnings.filterwarnings('ignore')\n",
    "import random\n",
    "import cv2\n",
    "import matplotlib.pyplot as plt"
   ]
  },
  {
   "cell_type": "markdown",
   "metadata": {},
   "source": [
    "## Defining Functions"
   ]
  },
  {
   "cell_type": "markdown",
   "metadata": {},
   "source": [
    "### Splitting a word into letters & checking if the word has repeated letters"
   ]
  },
  {
   "cell_type": "code",
   "execution_count": 3,
   "metadata": {},
   "outputs": [],
   "source": [
    "#splitting word into letters\n",
    "def split(word):\n",
    "    return [char for char in word]\n",
    "\n",
    "\n",
    "def hasRepeatedChars(s):\n",
    "    for i in range(len(s)):\n",
    "        if i != s.rfind(s[i]):\n",
    "            return True\n",
    "    return False\n",
    "    \n",
    "def wordle_init(input_word):\n",
    "    splitword = split(input_word)\n",
    "    df_compare = {'l1': [splitword[0]], 'l2': [splitword[1]], 'l3': [splitword[2]], 'l4': [splitword[3]], 'l5': [splitword[4]]}\n",
    "    df_compare = pd.DataFrame(df_compare)\n",
    "    df_compare.loc[1] = [\"L1\",\"L2\",\"L3\",\"L4\",\"L5\"]\n",
    "    df_compare.loc[2] = [0,0,0,0,0]\n",
    "    #print(df_compare)\n",
    "    return(df_compare)  "
   ]
  },
  {
   "cell_type": "markdown",
   "metadata": {},
   "source": [
    "### Function to get a new guess at each try"
   ]
  },
  {
   "cell_type": "code",
   "execution_count": 4,
   "metadata": {},
   "outputs": [],
   "source": [
    "def get_newguess(letters_temp, guesses_temp):\n",
    "    \n",
    "    information = [\"word\"]\n",
    "    for i1 in range(3):\n",
    "        for i2 in range(3):\n",
    "            for i3 in range(3):\n",
    "                for i4 in range(3):\n",
    "                    for i5 in range(3):\n",
    "                        information.append(str(i1)+str(i2)+str(i3)+str(i4)+str(i5))\n",
    "    df_remaining = pd.DataFrame(columns = information)\n",
    "    score = []\n",
    "    \n",
    "\n",
    "\n",
    "    guesslist = guesses_temp[0] + guesses_temp[1] + guesses_temp[2] + guesses_temp[3] + guesses_temp[4]\n",
    "    #guesslist = guesslist.tolist()\n",
    "    for word in guesslist:\n",
    "    #for word in [\"PENIS\", \"BLOAT\", \"WEARY\", \"FLOAT\", \"NOTES\", \"QUICK\", \"SOARE\",\"SALET\"]:\n",
    "        #print(word)\n",
    "\n",
    "        score = [word]\n",
    "        splitword = split(word)\n",
    "        df_compare_mini = {'l1': [splitword[0]], 'l2': [splitword[1]], 'l3': [splitword[2]], 'l4': [splitword[3]], 'l5': [splitword[4]]}\n",
    "        df_compare_mini = pd.DataFrame(df_compare_mini)\n",
    "        \n",
    "        for i1 in range(3):\n",
    "            for i2 in range(3):\n",
    "                for i3 in range(3):\n",
    "                    for i4 in range(3):\n",
    "                        for i5 in range(3):\n",
    "                            \n",
    "                            letters_temp_mini = letters\n",
    "                            df_compare_mini.loc[len(df_compare_mini)] = [i1,i2,i3,i4,i5] \n",
    "\n",
    "                            letters_temp_mini = letters_temp\n",
    "\n",
    "                            #identify colours\n",
    "                            row_green, column_green = np.where(df_compare_mini.values == 2)\n",
    "                            row_yellow, column_yellow = np.where(df_compare_mini.values == 1)\n",
    "                            row_black, column_black = np.where(df_compare_mini.values == 0)\n",
    "                            \n",
    "\n",
    "                            #if green, then that letter HAS to be there\n",
    "                            for column in column_green:\n",
    "                                #print(df_compare_mini.iat[0,int(column)])\n",
    "                                letters_temp_mini =  letters_temp_mini[letters_temp_mini[letters_temp_mini.columns[column]].isin([df_compare_mini.iat[0,int(column)]])]\n",
    "\n",
    "                            #yellow condition\n",
    "                            for column in column_yellow:\n",
    "                                #print(df_compare_mini.iat[0,int(column)])\n",
    "                                letters_temp_mini =  letters_temp_mini[letters_temp_mini.isin([df_compare_mini.iat[0,int(column)]]).any(axis=1)]\n",
    "                            \n",
    "                            for column in column_yellow:\n",
    "                                #print(df_compare_mini.iat[0,int(column)])\n",
    "                                letters_temp_mini =  letters_temp_mini[(letters_temp_mini.iloc[:, column] != df_compare_mini.iat[0,int(column)])]\n",
    "\n",
    "                            #removing words with black\n",
    "                            for column in column_black:\n",
    "                                #print(df_compare_mini.iat[0,int(column)])\n",
    "                                letters_temp_mini =  letters_temp_mini[(letters_temp_mini.iloc[:, :] != df_compare_mini.iat[0,int(column)]).all(axis=1)]\n",
    "\n",
    "                            score.append(len(letters_temp_mini.index))\n",
    "                            df_compare_mini = df_compare_mini.drop(labels=1, axis=0)\n",
    "        \n",
    "        df_remaining.loc[len(df_remaining)] = score\n",
    "    \n",
    "    scoreboard = df_remaining.drop(['word'], axis = 1)\n",
    "    score_calc = np.array(scoreboard)\n",
    "    score_calc = score_calc.astype(float)\n",
    "    score_calc = score_calc/2315\n",
    "    score_calc = score_calc*-1*np.log2(score_calc)\n",
    "    score_calc = np.nan_to_num(score_calc)\n",
    "    score_calc = np.sum(score_calc, axis=1) \n",
    "    list1 = score_calc.tolist()\n",
    "    if len(list1) > 0:\n",
    "        maxpos = list1.index(max(list1)) \n",
    "    else:\n",
    "        maxpos = 0\n",
    "    \n",
    "    return df_remaining.loc[maxpos,\"word\"]\n",
    "\n",
    "\n",
    "                                \n",
    "                                \n",
    "            \n"
   ]
  },
  {
   "cell_type": "markdown",
   "metadata": {},
   "source": [
    "### Function to integrate all the tries into one game (MANUAL MODE)"
   ]
  },
  {
   "cell_type": "code",
   "execution_count": 5,
   "metadata": {},
   "outputs": [],
   "source": [
    "def play_wordle(df_compare, remaining_words, letters_temp, guesses_temp, level_count):\n",
    "    while (remaining_words != 1):\n",
    "        guess = input(\"input guess pls ty\")\n",
    "        clear_output(wait=True) \n",
    "        splitguess = split(guess)\n",
    "        #print(splitguess)\n",
    "        #print(df_compare)\n",
    "        #print(splitguess)\n",
    "        df_compare.loc[1] = splitguess\n",
    "        #print(df_compare)\n",
    "\n",
    "        for i in df_compare.columns:\n",
    "            #green\n",
    "            if (df_compare.loc[0,i] == df_compare.loc[1,i]):\n",
    "                df_compare.loc[2,i] = 2\n",
    "            #black\n",
    "            elif ((df_compare.loc[1,i] != df_compare.loc[0,\"l1\"]) & (df_compare.loc[1,i] != df_compare.loc[0,\"l2\"]) & (df_compare.loc[1,i] != df_compare.loc[0,\"l3\"]) & (df_compare.loc[1,i] != df_compare.loc[0,\"l4\"]) & (df_compare.loc[1,i] != df_compare.loc[0,\"l5\"])):\n",
    "                df_compare.loc[2,i] = 0\n",
    "            #yellow\n",
    "            else:\n",
    "                df_compare.loc[2,i] = 1\n",
    "        print(df_compare)\n",
    "        \n",
    "        visualize(df_compare, level_count)\n",
    "        \n",
    "        row_green, column_green = np.where(df_compare.values == 2)\n",
    "        row_yellow, column_yellow = np.where(df_compare.values == 1)\n",
    "        row_black, column_black = np.where(df_compare.values == 0)\n",
    "        #print(column_green)\n",
    "\n",
    "        #if green, then that letter HAS to be there\n",
    "        for column in column_green:\n",
    "            #print(df_compare.iat[1,int(column)])\n",
    "            letters_temp =  letters_temp[letters_temp[letters_temp.columns[column]].isin([df_compare.iat[1,int(column)]])]\n",
    "            guesses_temp =  guesses_temp[guesses_temp[guesses_temp.columns[column]].isin([df_compare.iat[1,int(column)]])]\n",
    "\n",
    "        #yellow condition\n",
    "        for column in column_yellow:\n",
    "            #print(df_compare.iat[0,int(column)])\n",
    "            letters_temp =  letters_temp[letters_temp.isin([df_compare.iat[1,int(column)]]).any(axis=1)]\n",
    "            guesses_temp =  guesses_temp[guesses_temp.isin([df_compare.iat[1,int(column)]]).any(axis=1)]\n",
    "        \n",
    "        for column in column_yellow:\n",
    "            #print(df_compare.iat[0,int(column)])\n",
    "            letters_temp =  letters_temp[(letters_temp.iloc[:, column] != df_compare.iat[1,int(column)])]\n",
    "            guesses_temp =  guesses_temp[(guesses_temp.iloc[:, column] != df_compare.iat[1,int(column)])]\n",
    "\n",
    "        #removing words with black\n",
    "        for column in column_black:\n",
    "            #print(df_compare.iat[0,int(column)])\n",
    "            letters_temp =  letters_temp[(letters_temp.iloc[:, :] != df_compare.iat[1,int(column)]).all(axis=1)]\n",
    "            guesses_temp =  guesses_temp[(guesses_temp.iloc[:, :] != df_compare.iat[1,int(column)]).all(axis=1)]\n",
    "        print(letters_temp)\n",
    "        print(guesses_temp)\n",
    "        remaining_words = len(letters_temp)\n",
    "               \n",
    "\n",
    "\n",
    "        #print(df_compare)\n",
    "        print(len(letters_temp))\n",
    "        if (remaining_words != 1):\n",
    "            level_count+=1\n",
    "            guess = get_newguess(letters_temp, guesses_temp)\n",
    "            print(\"try\" + guess)\n",
    "        else:\n",
    "            level_count+=1\n",
    "            print(\"Congrats! the word is \"+(letters_temp[0] + letters_temp[1] + letters_temp[2] + letters_temp[3] + letters_temp[4]))\n",
    "            \n",
    "            ans_ = letters_temp.values.tolist()\n",
    "            print(\"#################################\")\n",
    "            # print(ans)\n",
    "            # print(split(ans))\n",
    "            print(ans_[0][0], ans_[0][1], ans_[0][2], ans_[0][3], ans_[0][4])\n",
    "            print(\"###################################\")\n",
    "            ans = ans_[0][0]+ans_[0][1]+ans_[0][2]+ans_[0][3]+ans_[0][4]\n",
    "            splitguess = split(ans)\n",
    "            #print(splitguess)\n",
    "            #print(df_compare)\n",
    "            #print(splitguess)\n",
    "            df_compare.loc[1] = splitguess\n",
    "            #print(df_compare)\n",
    "\n",
    "            for i in df_compare.columns:\n",
    "                #green\n",
    "                if (df_compare.loc[0,i] == df_compare.loc[1,i]):\n",
    "                    df_compare.loc[2,i] = 2\n",
    "                #black\n",
    "                elif ((df_compare.loc[1,i] != df_compare.loc[0,\"l1\"]) & (df_compare.loc[1,i] != df_compare.loc[0,\"l2\"]) & (df_compare.loc[1,i] != df_compare.loc[0,\"l3\"]) & (df_compare.loc[1,i] != df_compare.loc[0,\"l4\"]) & (df_compare.loc[1,i] != df_compare.loc[0,\"l5\"])):\n",
    "                    df_compare.loc[2,i] = 0\n",
    "                #yellow\n",
    "                else:\n",
    "                    df_compare.loc[2,i] = 1\n",
    "            print(df_compare)\n",
    "\n",
    "            visualize(df_compare, level_count)            \n",
    "            \n",
    "    return level_count\n"
   ]
  },
  {
   "cell_type": "markdown",
   "metadata": {},
   "source": [
    "### Function to integrate all the tries into one game (AUTO MODE)"
   ]
  },
  {
   "cell_type": "code",
   "execution_count": 6,
   "metadata": {},
   "outputs": [],
   "source": [
    "def loop_wordle(df_compare, remaining_words, letters_temp, guesses_temp, level_count):\n",
    "    while (remaining_words != 1):\n",
    "        if (level_count == 1):\n",
    "            guess = \"SOARE\"\n",
    "        else:\n",
    "            guess = get_newguess(letters_temp, guesses_temp)\n",
    "        \n",
    "        print(\"Guessing \" + str(guess))\n",
    "\n",
    "        #clear_output(wait=True) \n",
    "        splitguess = split(guess)\n",
    "        #print(splitguess)\n",
    "        #print(df_compare)\n",
    "        #print(splitguess)\n",
    "        df_compare.loc[1] = splitguess\n",
    "        #print(df_compare)\n",
    "\n",
    "        for i in df_compare.columns:\n",
    "            #green\n",
    "            if (df_compare.loc[0,i] == df_compare.loc[1,i]):\n",
    "                df_compare.loc[2,i] = 2\n",
    "            #black\n",
    "            elif ((df_compare.loc[1,i] != df_compare.loc[0,\"l1\"]) & (df_compare.loc[1,i] != df_compare.loc[0,\"l2\"]) & (df_compare.loc[1,i] != df_compare.loc[0,\"l3\"]) & (df_compare.loc[1,i] != df_compare.loc[0,\"l4\"]) & (df_compare.loc[1,i] != df_compare.loc[0,\"l5\"])):\n",
    "                df_compare.loc[2,i] = 0\n",
    "            #yellow\n",
    "            else:\n",
    "                df_compare.loc[2,i] = 1\n",
    "        print(df_compare)\n",
    "        \n",
    "        visualize(df_compare, level_count)\n",
    "        \n",
    "        row_green, column_green = np.where(df_compare.values == 2)\n",
    "        row_yellow, column_yellow = np.where(df_compare.values == 1)\n",
    "        row_black, column_black = np.where(df_compare.values == 0)\n",
    "        #print(column_green)\n",
    "\n",
    "        #if green, letter HAS to be there\n",
    "        for column in column_green:\n",
    "            #print(df_compare.iat[1,int(column)])\n",
    "            letters_temp =  letters_temp[letters_temp[letters_temp.columns[column]].isin([df_compare.iat[1,int(column)]])]\n",
    "            guesses_temp =  guesses_temp[guesses_temp[guesses_temp.columns[column]].isin([df_compare.iat[1,int(column)]])]\n",
    "        \n",
    "        #if yellow condition, letter HAS to be there AND not in the place\n",
    "        for column in column_yellow:\n",
    "            #print(df_compare.iat[0,int(column)])\n",
    "            letters_temp =  letters_temp[letters_temp.isin([df_compare.iat[1,int(column)]]).any(axis=1)]\n",
    "            guesses_temp =  guesses_temp[guesses_temp.isin([df_compare.iat[1,int(column)]]).any(axis=1)]    \n",
    "        for column in column_yellow:\n",
    "            #print(df_compare.iat[0,int(column)])\n",
    "            letters_temp =  letters_temp[(letters_temp.iloc[:, column] != df_compare.iat[1,int(column)])]\n",
    "            guesses_temp =  guesses_temp[(guesses_temp.iloc[:, column] != df_compare.iat[1,int(column)])]\n",
    "        \n",
    "        #removing words with black\n",
    "        for column in column_black:\n",
    "            #print(df_compare.iat[0,int(column)])\n",
    "            letters_temp =  letters_temp[(letters_temp.iloc[:, :] != df_compare.iat[1,int(column)]).all(axis=1)]\n",
    "            guesses_temp =  guesses_temp[(guesses_temp.iloc[:, :] != df_compare.iat[1,int(column)]).all(axis=1)]\n",
    "        \n",
    "        print(letters_temp)\n",
    "        #print(guesses_temp)\n",
    "        remaining_words = len(letters_temp)\n",
    "\n",
    "\n",
    "        #print(df_compare)\n",
    "        print(str(len(letters_temp)) + \" words remain\")\n",
    "        if (remaining_words != 1):\n",
    "            level_count+=1\n",
    "\n",
    "        elif (df_compare.sum(axis=1)[2] == 10):\n",
    "            print(\"Congrats! the word is \"+(letters_temp[0] + letters_temp[1] + letters_temp[2] + letters_temp[3] + letters_temp[4]))\n",
    "\n",
    "            ans_ = letters_temp.values.tolist()\n",
    "            print(\"#################################\")\n",
    "            # print(ans)\n",
    "            # print(split(ans))\n",
    "            print(ans_[0][0], ans_[0][1], ans_[0][2], ans_[0][3], ans_[0][4])\n",
    "            print(\"###################################\")\n",
    "            ans = ans_[0][0]+ans_[0][1]+ans_[0][2]+ans_[0][3]+ans_[0][4]\n",
    "            splitguess = split(ans)\n",
    "            #print(splitguess)\n",
    "            #print(df_compare)\n",
    "            #print(splitguess)\n",
    "            df_compare.loc[1] = splitguess\n",
    "            #print(df_compare)\n",
    "\n",
    "            for i in df_compare.columns:\n",
    "                #green\n",
    "                if (df_compare.loc[0,i] == df_compare.loc[1,i]):\n",
    "                    df_compare.loc[2,i] = 2\n",
    "                #black\n",
    "                elif ((df_compare.loc[1,i] != df_compare.loc[0,\"l1\"]) & (df_compare.loc[1,i] != df_compare.loc[0,\"l2\"]) & (df_compare.loc[1,i] != df_compare.loc[0,\"l3\"]) & (df_compare.loc[1,i] != df_compare.loc[0,\"l4\"]) & (df_compare.loc[1,i] != df_compare.loc[0,\"l5\"])):\n",
    "                    df_compare.loc[2,i] = 0\n",
    "                #yellow\n",
    "                else:\n",
    "                    df_compare.loc[2,i] = 1\n",
    "            print(\"df_compare\", df_compare)\n",
    "\n",
    "            visualize(df_compare, level_count)\n",
    "        \n",
    "        \n",
    "        else:\n",
    "            level_count+=1\n",
    "            print(\"Congrats! the word is \"+(letters_temp[0] + letters_temp[1] + letters_temp[2] + letters_temp[3] + letters_temp[4]))\n",
    "            \n",
    "            ans_ = letters_temp.values.tolist()\n",
    "            print(\"#################################\")\n",
    "            # print(ans)\n",
    "            # print(split(ans))\n",
    "            print(ans_[0][0], ans_[0][1], ans_[0][2], ans_[0][3], ans_[0][4])\n",
    "            print(\"###################################\")\n",
    "            ans = ans_[0][0]+ans_[0][1]+ans_[0][2]+ans_[0][3]+ans_[0][4]\n",
    "            splitguess = split(ans)\n",
    "            #print(splitguess)\n",
    "            #print(df_compare)\n",
    "            #print(splitguess)\n",
    "            df_compare.loc[1] = splitguess\n",
    "            #print(df_compare)\n",
    "\n",
    "            for i in df_compare.columns:\n",
    "                #green\n",
    "                if (df_compare.loc[0,i] == df_compare.loc[1,i]):\n",
    "                    df_compare.loc[2,i] = 2\n",
    "                #black\n",
    "                elif ((df_compare.loc[1,i] != df_compare.loc[0,\"l1\"]) & (df_compare.loc[1,i] != df_compare.loc[0,\"l2\"]) & (df_compare.loc[1,i] != df_compare.loc[0,\"l3\"]) & (df_compare.loc[1,i] != df_compare.loc[0,\"l4\"]) & (df_compare.loc[1,i] != df_compare.loc[0,\"l5\"])):\n",
    "                    df_compare.loc[2,i] = 0\n",
    "                #yellow\n",
    "                else:\n",
    "                    df_compare.loc[2,i] = 1\n",
    "            print(\"df_compare\", df_compare)\n",
    "\n",
    "            visualize(df_compare, level_count)\n",
    "            \n",
    "    return level_count\n"
   ]
  },
  {
   "cell_type": "markdown",
   "metadata": {},
   "source": [
    "## Setting up initial dataframes"
   ]
  },
  {
   "cell_type": "code",
   "execution_count": 8,
   "metadata": {},
   "outputs": [],
   "source": [
    "#feasible solutions set\n",
    "solutions_complete = pd.read_csv(r'/home/tejal/Acads/ME308/project1/WordleSolver/datasets/valid_solutions.csv')\n",
    "solutions_complete = solutions_complete.apply(lambda x: x.astype(str).str.upper())\n",
    "\n",
    "#feasible guesses set\n",
    "guesses_complete = pd.read_csv(r'/home/tejal/Acads/ME308/project1/WordleSolver/datasets/valid_guesses.csv')\n",
    "guesses_complete = guesses_complete.apply(lambda x: x.astype(str).str.upper())\n",
    "\n",
    "#removing guesses which have repeated characters as they pose issues wrt coding them\n",
    "remove_rows = []\n",
    "for i in range(len(guesses_complete.word)):\n",
    "    if (hasRepeatedChars(guesses_complete.iloc[i,0])):\n",
    "        remove_rows.append(i)\n",
    "guesses = guesses_complete.drop(guesses_complete.index[remove_rows])\n",
    "guesses = guesses.reset_index(drop=True)\n",
    "#guesses = [\"BLACK\", \"TABLE\", \"SALET\", \"SOARE\", \"SHARE\"]\n",
    "#guesses = pd.DataFrame(guesses)\n",
    "#splitting solution dataset\n",
    "letters = solutions_complete.apply(lambda x:split(x[0]), axis=1,result_type='expand')\n",
    "guess_letters = guesses.apply(lambda x:split(x[0]), axis=1,result_type='expand')"
   ]
  },
  {
   "cell_type": "code",
   "execution_count": 9,
   "metadata": {},
   "outputs": [],
   "source": [
    "#df to get expected information per word or word score\n",
    "information = [\"word\"]\n",
    "for i1 in range(3):\n",
    "  for i2 in range(3):\n",
    "    for i3 in range(3):\n",
    "      for i4 in range(3):\n",
    "        for i5 in range(3):\n",
    "          information.append(str(i1)+str(i2)+str(i3)+str(i4)+str(i5))\n",
    "df_remaining = pd.DataFrame(columns = information)"
   ]
  },
  {
   "cell_type": "markdown",
   "metadata": {},
   "source": [
    "## Play wordle in manual mode"
   ]
  },
  {
   "cell_type": "code",
   "execution_count": 39,
   "metadata": {},
   "outputs": [
    {
     "name": "stdout",
     "output_type": "stream",
     "text": [
      "(301, 251, 3)\n"
     ]
    },
    {
     "data": {
      "image/png": "[encoded data removed]",
      "text/plain": [
       "<Figure size 432x288 with 1 Axes>"
      ]
     },
     "metadata": {
      "needs_background": "light"
     },
     "output_type": "display_data"
    }
   ],
   "source": [
    "# opencv visualization function\n",
    "\n",
    "nrows = 5\n",
    "ncols = 6\n",
    "length = 50\n",
    "thickness = 2\n",
    "\n",
    "img = np.ones( ( ncols*length + 1 , nrows*length + 1, 3), np.uint8)\n",
    "print(img.shape)\n",
    "img = 255 * img\n",
    "\n",
    "plt.imshow(cv2.cvtColor(img, cv2.COLOR_BGR2RGB))\n",
    "\n",
    "dictColors = { 0: (127,127,127), 1: (0,255,255), 2:(0, 255, 0)}\n",
    "# print(dictColors[0])\n",
    "\n",
    "# for count, word in enumerate(words):\n",
    "#   iteration = count + 1\n",
    "#   feedback = feedbacks[count]\n",
    "\n",
    "# 1st guess, word:2, feedback:3, iteration: 1\n",
    "# 2nd guess, word:3, feedback:4, iteration: 2\n",
    "# 3rd guess, word:4, feedback:5, iteration: 3\n",
    "\n",
    "words = []\n",
    "feedbacks = []\n",
    "\n",
    "# df.values.tolist()\n",
    "\n",
    "def visualize(df_compare, iteration):\n",
    "  global img\n",
    "  df_compare_list = df_compare.values.tolist()\n",
    "  # words.append(df_compare_list[iteration])\n",
    "  # feedbacks.append(df_compare_list[iteration+1])\n",
    "  words.append(df_compare_list[1])\n",
    "  feedbacks.append(df_compare_list[2])\n",
    "  # print(words)\n",
    "  # print(\"###############\")\n",
    "  # print(feedbacks)\n",
    "\n",
    "\n",
    "  for count, word in enumerate(words):\n",
    "    iteration = count + 1\n",
    "    feedback = feedbacks[count]\n",
    "    for p, letter in enumerate(word):\n",
    "      # print(p)\n",
    "      img[(iteration-1)*length:iteration*length, p*length:(p+1)*length, :] = dictColors[feedback[p]]\n",
    "      \n",
    "      img = cv2.putText(img, \n",
    "                        letter, \n",
    "                        (p*length+10, iteration*length -10), \n",
    "                        fontFace = cv2.FONT_HERSHEY_DUPLEX, \n",
    "                        fontScale = 1.5, \n",
    "                        color = (0, 0, 0), \n",
    "                        thickness = 2)\n",
    "    \n",
    "  for i in range(nrows+1):\n",
    "      start = (i*length ,0)\n",
    "      end = (i*length, 6*length)\n",
    "      # print(end)\n",
    "      img = cv2.line(img, start, end, (255,255,255), 4)\n",
    "      # img = cv2.putText(img, 'O', end, font, \n",
    "                    #  fontScale, color, thickness, cv2.LINE_AA)\n",
    "\n",
    "  for j in range(ncols+1):\n",
    "      start = (0,j*length)\n",
    "      end = (5*length, j*length)\n",
    "      img = cv2.line(img, start, end, (255,255,255), 4)\n",
    "      # print(end)\n",
    "      # img = cv2.putText(img, 't', start, font, \n",
    "                    #  fontScale, color, thickness, cv2.LINE_AA)\n",
    "\n",
    "  plt.imshow(cv2.cvtColor(img, cv2.COLOR_BGR2RGB))\n",
    "  plt.show()  \n"
   ]
  },
  {
   "cell_type": "code",
   "execution_count": 40,
   "metadata": {},
   "outputs": [
    {
     "name": "stdout",
     "output_type": "stream",
     "text": [
      "Put the target wordGRATE\n"
     ]
    }
   ],
   "source": [
    "target = input(\"Put the target word\")\n",
    "df_compare = wordle_init(target)"
   ]
  },
  {
   "cell_type": "code",
   "execution_count": 41,
   "metadata": {},
   "outputs": [
    {
     "name": "stdout",
     "output_type": "stream",
     "text": [
      "  l1 l2 l3 l4 l5\n",
      "0  G  R  A  T  E\n",
      "1  G  R  A  T  E\n",
      "2  2  2  2  2  2\n"
     ]
    },
    {
     "data": {
      "image/png": "[encoded data removed]",
      "text/plain": [
       "<Figure size 432x288 with 1 Axes>"
      ]
     },
     "metadata": {
      "needs_background": "light"
     },
     "output_type": "display_data"
    },
    {
     "name": "stdout",
     "output_type": "stream",
     "text": [
      "     0  1  2  3  4\n",
      "902  G  R  A  T  E\n",
      "      0  1  2  3  4\n",
      "3000  G  R  A  T  E\n",
      "1\n",
      "902    Congrats! the word is GRATE\n",
      "dtype: object\n",
      "#################################\n",
      "G R A T E\n",
      "###################################\n",
      "  l1 l2 l3 l4 l5\n",
      "0  G  R  A  T  E\n",
      "1  G  R  A  T  E\n",
      "2  2  2  2  2  2\n"
     ]
    },
    {
     "data": {
      "image/png": "[encoded data removed]",
      "text/plain": [
       "<Figure size 432x288 with 1 Axes>"
      ]
     },
     "metadata": {
      "needs_background": "light"
     },
     "output_type": "display_data"
    },
    {
     "data": {
      "text/plain": [
       "4"
      ]
     },
     "execution_count": 41,
     "metadata": {},
     "output_type": "execute_result"
    }
   ],
   "source": [
    "\n",
    "remaining_words = 2315\n",
    "letters_temp = letters\n",
    "guesses_temp = guess_letters\n",
    "level_count = 1\n",
    "tot_levels = play_wordle(df_compare, remaining_words, letters_temp, guesses_temp, level_count)\n",
    "#get_newguess(letters_temp)\n",
    "tot_levels"
   ]
  },
  {
   "cell_type": "markdown",
   "metadata": {},
   "source": [
    "## Play Wordle in Automatic mode"
   ]
  },
  {
   "cell_type": "code",
   "execution_count": 42,
   "metadata": {},
   "outputs": [
    {
     "name": "stdout",
     "output_type": "stream",
     "text": [
      "(301, 251, 3)\n"
     ]
    },
    {
     "data": {
      "image/png": "[encoded data removed]",
      "text/plain": [
       "<Figure size 432x288 with 1 Axes>"
      ]
     },
     "metadata": {
      "needs_background": "light"
     },
     "output_type": "display_data"
    }
   ],
   "source": [
    "# opencv visualization function\n",
    "\n",
    "nrows = 5\n",
    "ncols = 6\n",
    "length = 50\n",
    "thickness = 2\n",
    "\n",
    "img = np.ones( ( ncols*length + 1 , nrows*length + 1, 3), np.uint8)\n",
    "print(img.shape)\n",
    "img = 255 * img\n",
    "\n",
    "plt.imshow(cv2.cvtColor(img, cv2.COLOR_BGR2RGB))\n",
    "\n",
    "dictColors = { 0: (127,127,127), 1: (0,255,255), 2:(0, 255, 0)}\n",
    "# print(dictColors[0])\n",
    "\n",
    "# for count, word in enumerate(words):\n",
    "#   iteration = count + 1\n",
    "#   feedback = feedbacks[count]\n",
    "\n",
    "# 1st guess, word:2, feedback:3, iteration: 1\n",
    "# 2nd guess, word:3, feedback:4, iteration: 2\n",
    "# 3rd guess, word:4, feedback:5, iteration: 3\n",
    "\n",
    "words = []\n",
    "feedbacks = []\n",
    "\n",
    "# df.values.tolist()\n",
    "\n",
    "def visualize(df_compare, iteration):\n",
    "  global img\n",
    "  df_compare_list = df_compare.values.tolist()\n",
    "  # words.append(df_compare_list[iteration])\n",
    "  # feedbacks.append(df_compare_list[iteration+1])\n",
    "  words.append(df_compare_list[1])\n",
    "  feedbacks.append(df_compare_list[2])\n",
    "  # print(words)\n",
    "  # print(\"###############\")\n",
    "  # print(feedbacks)\n",
    "\n",
    "\n",
    "  for count, word in enumerate(words):\n",
    "    iteration = count + 1\n",
    "    feedback = feedbacks[count]\n",
    "    for p, letter in enumerate(word):\n",
    "      # print(p)\n",
    "      img[(iteration-1)*length:iteration*length, p*length:(p+1)*length, :] = dictColors[feedback[p]]\n",
    "      \n",
    "      img = cv2.putText(img, \n",
    "                        letter, \n",
    "                        (p*length+10, iteration*length -10), \n",
    "                        fontFace = cv2.FONT_HERSHEY_DUPLEX, \n",
    "                        fontScale = 1.5, \n",
    "                        color = (0, 0, 0), \n",
    "                        thickness = 2)\n",
    "    \n",
    "  for i in range(nrows+1):\n",
    "      start = (i*length ,0)\n",
    "      end = (i*length, 6*length)\n",
    "      # print(end)\n",
    "      img = cv2.line(img, start, end, (255,255,255), 4)\n",
    "      # img = cv2.putText(img, 'O', end, font, \n",
    "                    #  fontScale, color, thickness, cv2.LINE_AA)\n",
    "\n",
    "  for j in range(ncols+1):\n",
    "      start = (0,j*length)\n",
    "      end = (5*length, j*length)\n",
    "      img = cv2.line(img, start, end, (255,255,255), 4)\n",
    "      # print(end)\n",
    "      # img = cv2.putText(img, 't', start, font, \n",
    "                    #  fontScale, color, thickness, cv2.LINE_AA)\n",
    "\n",
    "  plt.imshow(cv2.cvtColor(img, cv2.COLOR_BGR2RGB))\n",
    "  plt.show()  \n"
   ]
  },
  {
   "cell_type": "code",
   "execution_count": 18,
   "metadata": {},
   "outputs": [
    {
     "name": "stdout",
     "output_type": "stream",
     "text": [
      "GREAT\n",
      "Guessing SOARE\n",
      "  l1 l2 l3 l4 l5\n",
      "0  G  R  E  A  T\n",
      "1  S  O  A  R  E\n",
      "2  0  0  1  1  1\n"
     ]
    },
    {
     "data": {
      "image/png": "[encoded data removed]",
      "text/plain": [
       "<Figure size 432x288 with 1 Axes>"
      ]
     },
     "metadata": {
      "needs_background": "light"
     },
     "output_type": "display_data"
    },
    {
     "name": "stdout",
     "output_type": "stream",
     "text": [
      "      0  1  2  3  4\n",
      "32    A  F  T  E  R\n",
      "44    A  I  D  E  R\n",
      "67    A  L  T  E  R\n",
      "70    A  M  B  E  R\n",
      "80    A  N  G  E  R\n",
      "...  .. .. .. .. ..\n",
      "2224  W  A  F  E  R\n",
      "2225  W  A  G  E  R\n",
      "2233  W  A  T  E  R\n",
      "2234  W  A  V  E  R\n",
      "2296  W  R  E  A  K\n",
      "\n",
      "[61 rows x 5 columns]\n",
      "61 words remain\n",
      "Guessing TALER\n",
      "  l1 l2 l3 l4 l5\n",
      "0  G  R  E  A  T\n",
      "1  T  A  L  E  R\n",
      "2  1  1  0  1  1\n"
     ]
    },
    {
     "data": {
      "image/png": "[encoded data removed]",
      "text/plain": [
       "<Figure size 432x288 with 1 Axes>"
      ]
     },
     "metadata": {
      "needs_background": "light"
     },
     "output_type": "display_data"
    },
    {
     "name": "stdout",
     "output_type": "stream",
     "text": [
      "     0  1  2  3  4\n",
      "906  G  R  E  A  T\n",
      "1 words remain\n",
      "906    Congrats! the word is GREAT\n",
      "dtype: object\n",
      "#################################\n",
      "G R E A T\n",
      "###################################\n",
      "df_compare   l1 l2 l3 l4 l5\n",
      "0  G  R  E  A  T\n",
      "1  G  R  E  A  T\n",
      "2  2  2  2  2  2\n"
     ]
    },
    {
     "data": {
      "image/png": "[encoded data removed]",
      "text/plain": [
       "<Figure size 432x288 with 1 Axes>"
      ]
     },
     "metadata": {
      "needs_background": "light"
     },
     "output_type": "display_data"
    },
    {
     "name": "stdout",
     "output_type": "stream",
     "text": [
      "GREAT took 3 goes\n"
     ]
    }
   ],
   "source": [
    "for word in [\"GREAT\"]:\n",
    "    target = word\n",
    "    print(target)\n",
    "    df_compare = wordle_init(target)\n",
    "\n",
    "    remaining_words = 2315\n",
    "    letters_temp = letters\n",
    "    guesses_temp = guess_letters\n",
    "    level_count = 1\n",
    "    tot_levels = loop_wordle(df_compare, remaining_words, letters_temp, guesses_temp, level_count)\n",
    "    print(word + \" took \" + str(tot_levels) + \" goes\")\n"
   ]
  }
 ],
 "metadata": {
  "interpreter": {
   "hash": "6a079fc0f75ff1224a0e56019ff895c56db7abcca1ed8c7c1f0a756905056805"
  },
  "kernelspec": {
   "display_name": "Python 3 (ipykernel)",
   "language": "python",
   "name": "python3"
  },
  "language_info": {
   "codemirror_mode": {
    "name": "ipython",
    "version": 3
   },
   "file_extension": ".py",
   "mimetype": "text/x-python",
   "name": "python",
   "nbconvert_exporter": "python",
   "pygments_lexer": "ipython3",
   "version": "3.8.10"
  }
 },
 "nbformat": 4,
 "nbformat_minor": 2
}
